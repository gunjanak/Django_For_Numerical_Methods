{
 "cells": [
  {
   "cell_type": "code",
   "execution_count": 1,
   "metadata": {},
   "outputs": [],
   "source": [
    "import numpy as np\n",
    "from sympy import symbols,sympify "
   ]
  },
  {
   "cell_type": "code",
   "execution_count": 60,
   "metadata": {},
   "outputs": [
    {
     "name": "stdout",
     "output_type": "stream",
     "text": [
      "x**2-4*y\n",
      "x**2 - 4*y\n",
      "The value of the formula when x = 1 is: 1 - 4*y\n"
     ]
    }
   ],
   "source": [
    "formula_str = input(\"Enter a function\")\n",
    "print(formula_str)\n",
    "formula = sympify(formula_str)\n",
    "print(formula)\n",
    "x = 1\n",
    "# type(formula)\n",
    "# Evaluate the formula with x = 1\n",
    "x = symbols('x')\n",
    "result = formula.subs(x, 1)\n",
    "\n",
    "# Print the result\n",
    "print(f\"The value of the formula when x = 1 is: {result}\")"
   ]
  },
  {
   "cell_type": "code",
   "execution_count": 61,
   "metadata": {},
   "outputs": [
    {
     "name": "stdout",
     "output_type": "stream",
     "text": [
      "x**2-4*y\n",
      "x**2 - 4*y\n",
      "Formula as a sympy expression: x**2 - 4*y\n",
      "The value of the formula when x = 1 and y = 2 is: -4.00000000000000\n"
     ]
    }
   ],
   "source": [
    "formula_str = input(\"Enter a function\")\n",
    "x0 = float(input(\"Enter initial value of x\"))\n",
    "y0 = float(input(\"Enter initial value of y\"))\n",
    "h = float(input(\"Enter Height\"))\n",
    "xn = float(input(\"Enter final value\"))\n",
    "x, y = symbols('x y')\n",
    "initial_values = {x:x0,y:y0}\n",
    "print(formula_str)\n",
    "formula = sympify(formula_str)\n",
    "print(formula)\n",
    "# Convert the string into a symbolic expression\n",
    "formula = sympify(formula_str)\n",
    "print(f\"Formula as a sympy expression: {formula}\")\n",
    "\n",
    "# Substitute the values of x and y\n",
    "result = formula.subs(initial_values)\n",
    "\n",
    "# Print the result\n",
    "print(f\"The value of the formula when x = 1 and y = 2 is: {result}\")"
   ]
  },
  {
   "cell_type": "code",
   "execution_count": 62,
   "metadata": {},
   "outputs": [
    {
     "name": "stdout",
     "output_type": "stream",
     "text": [
      "3\n"
     ]
    }
   ],
   "source": [
    "steps = int((xn-x0)/h)\n",
    "print(steps)"
   ]
  },
  {
   "cell_type": "code",
   "execution_count": 63,
   "metadata": {},
   "outputs": [
    {
     "name": "stdout",
     "output_type": "stream",
     "text": [
      "{x: 0.0, y: 1.0}\n",
      "values: -4.00000000000000\n",
      "xi: 0.01\n",
      "yi: 0.960000000000000\n",
      "{x: 0.01, y: 0.960000000000000}\n",
      "values: -3.83990000000000\n",
      "xi: 0.02\n",
      "yi: 0.921601000000000\n",
      "{x: 0.02, y: 0.921601000000000}\n",
      "values: -3.68600400000000\n",
      "xi: 0.03\n",
      "yi: 0.884740960000000\n"
     ]
    }
   ],
   "source": [
    "xi = x0\n",
    "yi = y0\n",
    "for i in range(steps):\n",
    "    initial_values = {x:xi,y:yi}\n",
    "    print(initial_values)\n",
    "    result = formula.subs(initial_values)\n",
    "    print(f\"values: {result}\")\n",
    "    yi = yi + h*formula.subs(initial_values)\n",
    "    xi = xi+h\n",
    "    print(f\"xi: {xi}\")\n",
    "    print(f\"yi: {yi}\")"
   ]
  },
  {
   "cell_type": "code",
   "execution_count": 35,
   "metadata": {},
   "outputs": [
    {
     "name": "stdout",
     "output_type": "stream",
     "text": [
      "1.5*x**2 + 2.5\n"
     ]
    }
   ],
   "source": [
    "print(y)"
   ]
  },
  {
   "cell_type": "code",
   "execution_count": 57,
   "metadata": {},
   "outputs": [
    {
     "name": "stdout",
     "output_type": "stream",
     "text": [
      "2*y/x\n",
      "2*y/x\n",
      "Formula as a sympy expression: 2*y/x\n",
      "The value of the formula when x = 1 and y = 2 is: 4.00000000000000\n"
     ]
    }
   ],
   "source": [
    "formula_str = input(\"Enter a function\")\n",
    "x0 = float(input(\"Enter initial value of x\"))\n",
    "y0 = float(input(\"Enter initial value of y\"))\n",
    "h = float(input(\"Enter Height\"))\n",
    "xn = float(input(\"Enter final value\"))\n",
    "x, y = symbols('x y')\n",
    "initial_values = {x:x0,y:y0}\n",
    "print(formula_str)\n",
    "formula = sympify(formula_str)\n",
    "print(formula)\n",
    "# Convert the string into a symbolic expression\n",
    "formula = sympify(formula_str)\n",
    "print(f\"Formula as a sympy expression: {formula}\")\n",
    "\n",
    "# Substitute the values of x and y\n",
    "result = formula.subs(initial_values)\n",
    "\n",
    "# Print the result\n",
    "print(f\"The value of the formula when x = 1 and y = 2 is: {result}\")"
   ]
  },
  {
   "cell_type": "code",
   "execution_count": 58,
   "metadata": {},
   "outputs": [
    {
     "name": "stdout",
     "output_type": "stream",
     "text": [
      "4\n"
     ]
    }
   ],
   "source": [
    "steps = int((xn-x0)/h)\n",
    "print(steps)"
   ]
  },
  {
   "cell_type": "code",
   "execution_count": 59,
   "metadata": {},
   "outputs": [
    {
     "name": "stdout",
     "output_type": "stream",
     "text": [
      "{x: 1.0, y: 2.0}\n",
      "xi: 1.25\n",
      "yi: 3.10000000000000\n",
      "{x: 1.25, y: 3.10000000000000}\n",
      "xi: 1.5\n",
      "yi: 4.44333333333333\n",
      "{x: 1.5, y: 4.44333333333333}\n",
      "xi: 1.75\n",
      "yi: 6.03023809523810\n",
      "{x: 1.75, y: 6.03023809523810}\n",
      "xi: 2.0\n",
      "yi: 7.86084608843537\n"
     ]
    }
   ],
   "source": [
    "xi = x0\n",
    "yi = y0\n",
    "for i in range(steps):\n",
    "    initial_values = {x:xi,y:yi}\n",
    "    print(initial_values)\n",
    "    m1 = formula.subs(initial_values)\n",
    "    xi2 = xi+h\n",
    "    yi2 = yi+m1*h\n",
    "    sec_values = {x:xi2,y:yi2}\n",
    "    m2 = formula.subs(sec_values)\n",
    "    m = (m1+m2)/2\n",
    "    yi = yi+m*h\n",
    "    xi = xi+h\n",
    "    print(f\"xi: {xi}\")\n",
    "    print(f\"yi: {yi}\")"
   ]
  },
  {
   "cell_type": "code",
   "execution_count": null,
   "metadata": {},
   "outputs": [],
   "source": []
  }
 ],
 "metadata": {
  "kernelspec": {
   "display_name": "venv",
   "language": "python",
   "name": "python3"
  },
  "language_info": {
   "codemirror_mode": {
    "name": "ipython",
    "version": 3
   },
   "file_extension": ".py",
   "mimetype": "text/x-python",
   "name": "python",
   "nbconvert_exporter": "python",
   "pygments_lexer": "ipython3",
   "version": "3.10.12"
  }
 },
 "nbformat": 4,
 "nbformat_minor": 2
}
