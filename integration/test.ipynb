{
 "cells": [
  {
   "cell_type": "code",
   "execution_count": 1,
   "metadata": {},
   "outputs": [],
   "source": [
    "import numpy as np\n",
    "from sympy import symbols,sympify "
   ]
  },
  {
   "cell_type": "code",
   "execution_count": 60,
   "metadata": {},
   "outputs": [
    {
     "name": "stdout",
     "output_type": "stream",
     "text": [
      "x**2-4*y\n",
      "x**2 - 4*y\n",
      "The value of the formula when x = 1 is: 1 - 4*y\n"
     ]
    }
   ],
   "source": [
    "formula_str = input(\"Enter a function\")\n",
    "print(formula_str)\n",
    "formula = sympify(formula_str)\n",
    "print(formula)\n",
    "x = 1\n",
    "# type(formula)\n",
    "# Evaluate the formula with x = 1\n",
    "x = symbols('x')\n",
    "result = formula.subs(x, 1)\n",
    "\n",
    "# Print the result\n",
    "print(f\"The value of the formula when x = 1 is: {result}\")"
   ]
  },
  {
   "cell_type": "code",
   "execution_count": 61,
   "metadata": {},
   "outputs": [
    {
     "name": "stdout",
     "output_type": "stream",
     "text": [
      "x**2-4*y\n",
      "x**2 - 4*y\n",
      "Formula as a sympy expression: x**2 - 4*y\n",
      "The value of the formula when x = 1 and y = 2 is: -4.00000000000000\n"
     ]
    }
   ],
   "source": [
    "formula_str = input(\"Enter a function\")\n",
    "x0 = float(input(\"Enter initial value of x\"))\n",
    "y0 = float(input(\"Enter initial value of y\"))\n",
    "h = float(input(\"Enter Height\"))\n",
    "xn = float(input(\"Enter final value\"))\n",
    "x, y = symbols('x y')\n",
    "initial_values = {x:x0,y:y0}\n",
    "print(formula_str)\n",
    "formula = sympify(formula_str)\n",
    "print(formula)\n",
    "# Convert the string into a symbolic expression\n",
    "formula = sympify(formula_str)\n",
    "print(f\"Formula as a sympy expression: {formula}\")\n",
    "\n",
    "# Substitute the values of x and y\n",
    "result = formula.subs(initial_values)\n",
    "\n",
    "# Print the result\n",
    "print(f\"The value of the formula when x = 1 and y = 2 is: {result}\")"
   ]
  },
  {
   "cell_type": "code",
   "execution_count": 62,
   "metadata": {},
   "outputs": [
    {
     "name": "stdout",
     "output_type": "stream",
     "text": [
      "3\n"
     ]
    }
   ],
   "source": [
    "steps = int((xn-x0)/h)\n",
    "print(steps)"
   ]
  },
  {
   "cell_type": "code",
   "execution_count": 63,
   "metadata": {},
   "outputs": [
    {
     "name": "stdout",
     "output_type": "stream",
     "text": [
      "{x: 0.0, y: 1.0}\n",
      "values: -4.00000000000000\n",
      "xi: 0.01\n",
      "yi: 0.960000000000000\n",
      "{x: 0.01, y: 0.960000000000000}\n",
      "values: -3.83990000000000\n",
      "xi: 0.02\n",
      "yi: 0.921601000000000\n",
      "{x: 0.02, y: 0.921601000000000}\n",
      "values: -3.68600400000000\n",
      "xi: 0.03\n",
      "yi: 0.884740960000000\n"
     ]
    }
   ],
   "source": [
    "xi = x0\n",
    "yi = y0\n",
    "for i in range(steps):\n",
    "    initial_values = {x:xi,y:yi}\n",
    "    print(initial_values)\n",
    "    result = formula.subs(initial_values)\n",
    "    print(f\"values: {result}\")\n",
    "    yi = yi + h*formula.subs(initial_values)\n",
    "    xi = xi+h\n",
    "    print(f\"xi: {xi}\")\n",
    "    print(f\"yi: {yi}\")"
   ]
  },
  {
   "cell_type": "code",
   "execution_count": 35,
   "metadata": {},
   "outputs": [
    {
     "name": "stdout",
     "output_type": "stream",
     "text": [
      "1.5*x**2 + 2.5\n"
     ]
    }
   ],
   "source": [
    "print(y)"
   ]
  },
  {
   "cell_type": "code",
   "execution_count": 64,
   "metadata": {},
   "outputs": [
    {
     "name": "stdout",
     "output_type": "stream",
     "text": [
      "x+y\n",
      "x + y\n",
      "Formula as a sympy expression: x + y\n",
      "The value of the formula when x = 1 and y = 2 is: 1.00000000000000\n"
     ]
    }
   ],
   "source": [
    "formula_str = input(\"Enter a function\")\n",
    "x0 = float(input(\"Enter initial value of x\"))\n",
    "y0 = float(input(\"Enter initial value of y\"))\n",
    "h = float(input(\"Enter Height\"))\n",
    "xn = float(input(\"Enter final value\"))\n",
    "x, y = symbols('x y')\n",
    "initial_values = {x:x0,y:y0}\n",
    "print(formula_str)\n",
    "formula = sympify(formula_str)\n",
    "print(formula)\n",
    "# Convert the string into a symbolic expression\n",
    "formula = sympify(formula_str)\n",
    "print(f\"Formula as a sympy expression: {formula}\")\n",
    "\n",
    "# Substitute the values of x and y\n",
    "result = formula.subs(initial_values)\n",
    "\n",
    "# Print the result\n",
    "print(f\"The value of the formula when x = 1 and y = 2 is: {result}\")"
   ]
  },
  {
   "cell_type": "code",
   "execution_count": 65,
   "metadata": {},
   "outputs": [
    {
     "name": "stdout",
     "output_type": "stream",
     "text": [
      "10\n"
     ]
    }
   ],
   "source": [
    "steps = int((xn-x0)/h)\n",
    "print(steps)"
   ]
  },
  {
   "cell_type": "code",
   "execution_count": 67,
   "metadata": {},
   "outputs": [
    {
     "name": "stdout",
     "output_type": "stream",
     "text": [
      "{x: 0.0, y: 1.0}\n",
      "M1: 1.00000000000000, M2: 1.20000000000000\n",
      "xi: 0.1\n",
      "yi: 1.11000000000000\n",
      "{x: 0.1, y: 1.11000000000000}\n",
      "M1: 1.21000000000000, M2: 1.43100000000000\n",
      "xi: 0.2\n",
      "yi: 1.24205000000000\n",
      "{x: 0.2, y: 1.24205000000000}\n",
      "M1: 1.44205000000000, M2: 1.68625500000000\n",
      "xi: 0.30000000000000004\n",
      "yi: 1.39846525000000\n",
      "{x: 0.30000000000000004, y: 1.39846525000000}\n",
      "M1: 1.69846525000000, M2: 1.96831177500000\n",
      "xi: 0.4\n",
      "yi: 1.58180410125000\n",
      "{x: 0.4, y: 1.58180410125000}\n",
      "M1: 1.98180410125000, M2: 2.27998451137500\n",
      "xi: 0.5\n",
      "yi: 1.79489353188125\n",
      "{x: 0.5, y: 1.79489353188125}\n",
      "M1: 2.29489353188125, M2: 2.62438288506938\n",
      "xi: 0.6\n",
      "yi: 2.04085735272878\n",
      "{x: 0.6, y: 2.04085735272878}\n",
      "M1: 2.64085735272878, M2: 3.00494308800166\n",
      "xi: 0.7\n",
      "yi: 2.32314737476530\n",
      "{x: 0.7, y: 2.32314737476530}\n",
      "M1: 3.02314737476530, M2: 3.42546211224183\n",
      "xi: 0.7999999999999999\n",
      "yi: 2.64557784911566\n",
      "{x: 0.7999999999999999, y: 2.64557784911566}\n",
      "M1: 3.44557784911566, M2: 3.89013563402723\n",
      "xi: 0.8999999999999999\n",
      "yi: 3.01236352327281\n",
      "{x: 0.8999999999999999, y: 3.01236352327281}\n",
      "M1: 3.91236352327281, M2: 4.40359987560009\n",
      "xi: 0.9999999999999999\n",
      "yi: 3.42816169321645\n"
     ]
    }
   ],
   "source": [
    "xi = x0\n",
    "yi = y0\n",
    "for i in range(steps):\n",
    "    initial_values = {x:xi,y:yi}\n",
    "    print(initial_values)\n",
    "    m1 = formula.subs(initial_values)\n",
    "    xi2 = xi+h\n",
    "    yi2 = yi+m1*h\n",
    "    sec_values = {x:xi2,y:yi2}\n",
    "    m2 = formula.subs(sec_values)\n",
    "    m = (m1+m2)/2\n",
    "    yi = yi+m*h\n",
    "    xi = xi+h\n",
    "    print(f\"M1: {m1}, M2: {m2}\")\n",
    "    print(f\"xi: {xi}\")\n",
    "    print(f\"yi: {yi}\")"
   ]
  },
  {
   "cell_type": "code",
   "execution_count": null,
   "metadata": {},
   "outputs": [],
   "source": []
  }
 ],
 "metadata": {
  "kernelspec": {
   "display_name": "venv",
   "language": "python",
   "name": "python3"
  },
  "language_info": {
   "codemirror_mode": {
    "name": "ipython",
    "version": 3
   },
   "file_extension": ".py",
   "mimetype": "text/x-python",
   "name": "python",
   "nbconvert_exporter": "python",
   "pygments_lexer": "ipython3",
   "version": "3.10.12"
  }
 },
 "nbformat": 4,
 "nbformat_minor": 2
}
