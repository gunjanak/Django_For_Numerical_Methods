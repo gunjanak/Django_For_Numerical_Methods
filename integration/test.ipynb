{
 "cells": [
  {
   "cell_type": "code",
   "execution_count": 7,
   "metadata": {},
   "outputs": [],
   "source": [
    "import numpy as np\n",
    "from sympy import symbols,sympify,lambdify"
   ]
  },
  {
   "cell_type": "code",
   "execution_count": 60,
   "metadata": {},
   "outputs": [
    {
     "name": "stdout",
     "output_type": "stream",
     "text": [
      "x**2-4*y\n",
      "x**2 - 4*y\n",
      "The value of the formula when x = 1 is: 1 - 4*y\n"
     ]
    }
   ],
   "source": [
    "formula_str = input(\"Enter a function\")\n",
    "print(formula_str)\n",
    "formula = sympify(formula_str)\n",
    "print(formula)\n",
    "x = 1\n",
    "# type(formula)\n",
    "# Evaluate the formula with x = 1\n",
    "x = symbols('x')\n",
    "result = formula.subs(x, 1)\n",
    "\n",
    "# Print the result\n",
    "print(f\"The value of the formula when x = 1 is: {result}\")"
   ]
  },
  {
   "cell_type": "code",
   "execution_count": 61,
   "metadata": {},
   "outputs": [
    {
     "name": "stdout",
     "output_type": "stream",
     "text": [
      "x**2-4*y\n",
      "x**2 - 4*y\n",
      "Formula as a sympy expression: x**2 - 4*y\n",
      "The value of the formula when x = 1 and y = 2 is: -4.00000000000000\n"
     ]
    }
   ],
   "source": [
    "formula_str = input(\"Enter a function\")\n",
    "x0 = float(input(\"Enter initial value of x\"))\n",
    "y0 = float(input(\"Enter initial value of y\"))\n",
    "h = float(input(\"Enter Height\"))\n",
    "xn = float(input(\"Enter final value\"))\n",
    "x, y = symbols('x y')\n",
    "initial_values = {x:x0,y:y0}\n",
    "print(formula_str)\n",
    "formula = sympify(formula_str)\n",
    "print(formula)\n",
    "# Convert the string into a symbolic expression\n",
    "formula = sympify(formula_str)\n",
    "print(f\"Formula as a sympy expression: {formula}\")\n",
    "\n",
    "# Substitute the values of x and y\n",
    "result = formula.subs(initial_values)\n",
    "\n",
    "# Print the result\n",
    "print(f\"The value of the formula when x = 1 and y = 2 is: {result}\")"
   ]
  },
  {
   "cell_type": "code",
   "execution_count": 62,
   "metadata": {},
   "outputs": [
    {
     "name": "stdout",
     "output_type": "stream",
     "text": [
      "3\n"
     ]
    }
   ],
   "source": [
    "steps = int((xn-x0)/h)\n",
    "print(steps)"
   ]
  },
  {
   "cell_type": "code",
   "execution_count": 63,
   "metadata": {},
   "outputs": [
    {
     "name": "stdout",
     "output_type": "stream",
     "text": [
      "{x: 0.0, y: 1.0}\n",
      "values: -4.00000000000000\n",
      "xi: 0.01\n",
      "yi: 0.960000000000000\n",
      "{x: 0.01, y: 0.960000000000000}\n",
      "values: -3.83990000000000\n",
      "xi: 0.02\n",
      "yi: 0.921601000000000\n",
      "{x: 0.02, y: 0.921601000000000}\n",
      "values: -3.68600400000000\n",
      "xi: 0.03\n",
      "yi: 0.884740960000000\n"
     ]
    }
   ],
   "source": [
    "xi = x0\n",
    "yi = y0\n",
    "for i in range(steps):\n",
    "    initial_values = {x:xi,y:yi}\n",
    "    print(initial_values)\n",
    "    result = formula.subs(initial_values)\n",
    "    print(f\"values: {result}\")\n",
    "    yi = yi + h*formula.subs(initial_values)\n",
    "    xi = xi+h\n",
    "    print(f\"xi: {xi}\")\n",
    "    print(f\"yi: {yi}\")"
   ]
  },
  {
   "cell_type": "code",
   "execution_count": 35,
   "metadata": {},
   "outputs": [
    {
     "name": "stdout",
     "output_type": "stream",
     "text": [
      "1.5*x**2 + 2.5\n"
     ]
    }
   ],
   "source": [
    "print(y)"
   ]
  },
  {
   "cell_type": "code",
   "execution_count": 57,
   "metadata": {},
   "outputs": [
    {
     "name": "stdout",
     "output_type": "stream",
     "text": [
      "2*y/x\n",
      "2*y/x\n",
      "Formula as a sympy expression: 2*y/x\n",
      "The value of the formula when x = 1 and y = 2 is: 4.00000000000000\n"
     ]
    }
   ],
   "source": [
    "formula_str = input(\"Enter a function\")\n",
    "x0 = float(input(\"Enter initial value of x\"))\n",
    "y0 = float(input(\"Enter initial value of y\"))\n",
    "h = float(input(\"Enter Height\"))\n",
    "xn = float(input(\"Enter final value\"))\n",
    "x, y = symbols('x y')\n",
    "initial_values = {x:x0,y:y0}\n",
    "print(formula_str)\n",
    "formula = sympify(formula_str)\n",
    "print(formula)\n",
    "# Convert the string into a symbolic expression\n",
    "formula = sympify(formula_str)\n",
    "print(f\"Formula as a sympy expression: {formula}\")\n",
    "\n",
    "# Substitute the values of x and y\n",
    "result = formula.subs(initial_values)\n",
    "\n",
    "# Print the result\n",
    "print(f\"The value of the formula when x = 1 and y = 2 is: {result}\")"
   ]
  },
  {
   "cell_type": "code",
   "execution_count": 58,
   "metadata": {},
   "outputs": [
    {
     "name": "stdout",
     "output_type": "stream",
     "text": [
      "4\n"
     ]
    }
   ],
   "source": [
    "steps = int((xn-x0)/h)\n",
    "print(steps)"
   ]
  },
  {
   "cell_type": "code",
   "execution_count": 59,
   "metadata": {},
   "outputs": [
    {
     "name": "stdout",
     "output_type": "stream",
     "text": [
      "{x: 1.0, y: 2.0}\n",
      "xi: 1.25\n",
      "yi: 3.10000000000000\n",
      "{x: 1.25, y: 3.10000000000000}\n",
      "xi: 1.5\n",
      "yi: 4.44333333333333\n",
      "{x: 1.5, y: 4.44333333333333}\n",
      "xi: 1.75\n",
      "yi: 6.03023809523810\n",
      "{x: 1.75, y: 6.03023809523810}\n",
      "xi: 2.0\n",
      "yi: 7.86084608843537\n"
     ]
    }
   ],
   "source": [
    "xi = x0\n",
    "yi = y0\n",
    "for i in range(steps):\n",
    "    initial_values = {x:xi,y:yi}\n",
    "    print(initial_values)\n",
    "    m1 = formula.subs(initial_values)\n",
    "    xi2 = xi+h\n",
    "    yi2 = yi+m1*h\n",
    "    sec_values = {x:xi2,y:yi2}\n",
    "    m2 = formula.subs(sec_values)\n",
    "    m = (m1+m2)/2\n",
    "    yi = yi+m*h\n",
    "    xi = xi+h\n",
    "    print(f\"xi: {xi}\")\n",
    "    print(f\"yi: {yi}\")"
   ]
  },
  {
   "cell_type": "code",
   "execution_count": 5,
   "metadata": {},
   "outputs": [
    {
     "name": "stdout",
     "output_type": "stream",
     "text": [
      "2*x+y\n",
      "2*x + y\n",
      "Formula as a sympy expression: 2*x + y\n",
      "The value of the formula when x = 1 and y = 2 is: 1.00000000000000\n"
     ]
    }
   ],
   "source": [
    "formula_str = input(\"Enter a function\")\n",
    "x0 = float(input(\"Enter initial value of x\"))\n",
    "y0 = float(input(\"Enter initial value of y\"))\n",
    "h = float(input(\"Enter Height\"))\n",
    "xn = float(input(\"Enter final value\"))\n",
    "x, y = symbols('x y')\n",
    "initial_values = {x:x0,y:y0}\n",
    "print(formula_str)\n",
    "formula = sympify(formula_str)\n",
    "print(formula)\n",
    "# Convert the string into a symbolic expression\n",
    "formula = sympify(formula_str)\n",
    "print(f\"Formula as a sympy expression: {formula}\")\n",
    "\n",
    "# Substitute the values of x and y\n",
    "result = formula.subs(initial_values)\n",
    "\n",
    "# Print the result\n",
    "print(f\"The value of the formula when x = 1 and y = 2 is: {result}\")"
   ]
  },
  {
   "cell_type": "code",
   "execution_count": 5,
   "metadata": {},
   "outputs": [
    {
     "name": "stdout",
     "output_type": "stream",
     "text": [
      "x**2 - y**2 + z\n"
     ]
    }
   ],
   "source": [
    "formula = sympify(formula_str)\n",
    "print(formula)"
   ]
  },
  {
   "cell_type": "code",
   "execution_count": null,
   "metadata": {},
   "outputs": [],
   "source": []
  },
  {
   "cell_type": "code",
   "execution_count": 6,
   "metadata": {},
   "outputs": [
    {
     "name": "stdout",
     "output_type": "stream",
     "text": [
      "2\n"
     ]
    }
   ],
   "source": [
    "steps = int((xn-x0)/h)\n",
    "print(steps)"
   ]
  },
  {
   "cell_type": "code",
   "execution_count": 7,
   "metadata": {},
   "outputs": [
    {
     "name": "stdout",
     "output_type": "stream",
     "text": [
      "{x: 0.0, y: 1.0}\n",
      "xi: 0.2\n",
      "yi: 1.26420000000000\n",
      "{x: 0.2, y: 1.26420000000000}\n",
      "xi: 0.4\n",
      "yi: 1.67545388000000\n"
     ]
    }
   ],
   "source": [
    "xi = x0\n",
    "yi = y0\n",
    "for i in range(steps):\n",
    "    initial_values = {x:xi,y:yi}\n",
    "    print(initial_values)\n",
    "    m1 = formula.subs(initial_values)\n",
    "    xi2 = xi+(h/2)\n",
    "    yi2 = yi+m1*(h/2)\n",
    "    sec_values = {x:xi2,y:yi2}\n",
    "    m2 = formula.subs(sec_values)\n",
    "    \n",
    "    xi3 = xi+(h/2)\n",
    "    yi3 = yi+m2*(h/2)\n",
    "    sec_values = {x:xi3,y:yi3}\n",
    "    m3 = formula.subs(sec_values)\n",
    "    \n",
    "    xi4 = xi+h\n",
    "    yi4 = yi+m3*h\n",
    "    sec_values = {x:xi4,y:yi4}\n",
    "    m4 = formula.subs(sec_values)\n",
    "    \n",
    "    m = (m1+2*m2+2*m3+m4)/6\n",
    "    yi = yi+m*h\n",
    "    xi = xi+h\n",
    "    print(f\"xi: {xi}\")\n",
    "    print(f\"yi: {yi}\")"
   ]
  },
  {
   "cell_type": "code",
   "execution_count": 3,
   "metadata": {},
   "outputs": [],
   "source": [
    "formula_str = input(\"Enter a function\")\n",
    "x0 = float(input(\"Enter initial value of x\"))\n",
    "y0 = float(input(\"Enter initial value of y\"))\n",
    "z0 = float(input(\"Enter initial value of z\"))\n"
   ]
  },
  {
   "cell_type": "code",
   "execution_count": 4,
   "metadata": {},
   "outputs": [
    {
     "name": "stdout",
     "output_type": "stream",
     "text": [
      "x**2-y**2+z\n"
     ]
    }
   ],
   "source": [
    "print(formula_str)"
   ]
  },
  {
   "cell_type": "code",
   "execution_count": 6,
   "metadata": {},
   "outputs": [
    {
     "name": "stdout",
     "output_type": "stream",
     "text": [
      "x**2 - y**2 + z\n"
     ]
    }
   ],
   "source": [
    "formula = sympify(formula_str)\n",
    "print(formula)"
   ]
  },
  {
   "cell_type": "code",
   "execution_count": 9,
   "metadata": {},
   "outputs": [
    {
     "name": "stdout",
     "output_type": "stream",
     "text": [
      "The result using lambdify f(x, y, z) = 1\n"
     ]
    }
   ],
   "source": [
    "x, y, z = symbols('x y z')\n",
    "f_lambdified = lambdify((x, y, z), formula)\n",
    "x_val = 1\n",
    "y_val = 1\n",
    "z_val = 1\n",
    "result_lambdified = f_lambdified(x_val, y_val, z_val)\n",
    "print(\"The result using lambdify f(x, y, z) =\", result_lambdified)"
   ]
  },
  {
   "cell_type": "code",
   "execution_count": 24,
   "metadata": {},
   "outputs": [
    {
     "name": "stdout",
     "output_type": "stream",
     "text": [
      "20\n"
     ]
    }
   ],
   "source": [
    "formula_str = input(\"Enter a function\")\n",
    "x0 = float(input(\"Enter initial value of x\"))\n",
    "y0 = float(input(\"Enter initial value of y\"))\n",
    "z0 = float(input(\"Enter initial value of z\"))\n",
    "h = float(input(\"Enter Height\"))\n",
    "xn = float(input(\"Enter final value\"))\n",
    "steps = int((xn-x0)/h)\n",
    "print(steps)\n",
    "formula = sympify(formula_str)\n",
    "x, y, z = symbols('x y z')\n",
    "f_lambdified = lambdify((x, y, z), formula)\n"
   ]
  },
  {
   "cell_type": "code",
   "execution_count": 25,
   "metadata": {},
   "outputs": [
    {
     "name": "stdout",
     "output_type": "stream",
     "text": [
      "xtemp: 0.1\n",
      "ytemp: 0.15145\n",
      "ztemp: 1.5145\n",
      "m1y: 1.5145\n",
      "m1z: -0.0\n",
      "m2y: 1.5145\n",
      "m2z: -0.6881130750000001\n",
      "my: 1.5145\n",
      "mz: -0.34405653750000004\n",
      "xi: 0.1\n",
      "yi: 0.15145\n",
      "zi: 1.48009434625\n",
      "xtemp: 0.2\n",
      "ytemp: 0.299459434625\n",
      "ztemp: 1.4128462596281313\n",
      "m1y: 1.48009434625\n",
      "m1z: -0.6724808662186875\n",
      "m2y: 1.4128462596281313\n",
      "m2z: -1.2692704263608585\n",
      "my: 1.4464703029390655\n",
      "mz: -0.970875646289773\n",
      "xi: 0.2\n",
      "yi: 0.29609703029390655\n",
      "zi: 1.3830067816210228\n",
      "xtemp: 0.30000000000000004\n",
      "ytemp: 0.43439770845600884\n",
      "ztemp: 1.2601555213467273\n",
      "m1y: 1.3830067816210228\n",
      "m1z: -1.2285126027429545\n",
      "m2y: 1.2601555213467273\n",
      "m2z: -1.6422260123136163\n",
      "my: 1.321581151483875\n",
      "mz: -1.4353693075282854\n",
      "xi: 0.30000000000000004\n",
      "yi: 0.42825514544229404\n",
      "zi: 1.2394698508681943\n",
      "xtemp: 0.4\n",
      "ytemp: 0.5522021305291135\n",
      "ztemp: 1.0802270484917251\n",
      "m1y: 1.2394698508681943\n",
      "m1z: -1.592428023764691\n",
      "m2y: 1.0802270484917251\n",
      "m2z: -1.7895110328969197\n",
      "my: 1.1598484496799597\n",
      "mz: -1.6909695283308053\n",
      "xi: 0.4\n",
      "yi: 0.54423999041029\n",
      "zi: 1.0703728980351137\n",
      "xtemp: 0.5\n",
      "ytemp: 0.6512772802138014\n",
      "ztemp: 0.8956109773064943\n",
      "m1y: 1.0703728980351137\n",
      "m1z: -1.747619207286194\n",
      "m2y: 0.8956109773064943\n",
      "m2z: -1.7498732442893945\n",
      "my: 0.9829919376708041\n",
      "mz: -1.7487462257877944\n",
      "xi: 0.5\n",
      "yi: 0.6425391841773704\n",
      "zi: 0.8954982754563343\n",
      "xtemp: 0.6\n",
      "ytemp: 0.7320890117230039\n",
      "ztemp: 0.7228804560531478\n",
      "m1y: 0.8954982754563343\n",
      "m1z: -1.7261781940318657\n",
      "m2y: 0.7228804560531478\n",
      "m2z: -1.5876385159974697\n",
      "my: 0.8091893657547411\n",
      "mz: -1.6569083550146677\n",
      "xi: 0.6\n",
      "yi: 0.7234581207528445\n",
      "zi: 0.7298074399548675\n",
      "xtemp: 0.7\n",
      "ytemp: 0.7964388647483313\n",
      "ztemp: 0.5714119042485096\n",
      "m1y: 0.7298074399548675\n",
      "m1z: -1.5839553570635787\n",
      "m2y: 0.5714119042485096\n",
      "m2z: -1.3652839449700955\n",
      "my: 0.6506096721016885\n",
      "mz: -1.474619651016837\n",
      "xi: 0.7\n",
      "yi: 0.7885190879630134\n",
      "zi: 0.5823454748531838\n",
      "xtemp: 0.7999999999999999\n",
      "ytemp: 0.8467536354483318\n",
      "ztemp: 0.44458831803999765\n",
      "m1y: 0.5823454748531838\n",
      "m1z: -1.3775715681318614\n",
      "m2y: 0.44458831803999765\n",
      "m2z: -1.1293703237346815\n",
      "my: 0.5134668964465907\n",
      "mz: -1.2534709459332714\n",
      "xi: 0.7999999999999999\n",
      "yi: 0.8398657776076724\n",
      "zi: 0.4569983802598566\n",
      "xtemp: 0.8999999999999999\n",
      "ytemp: 0.8855656156336581\n",
      "ztemp: 0.34185319025913924\n",
      "m1y: 0.4569983802598566\n",
      "m1z: -1.1514519000071737\n",
      "m2y: 0.34185319025913924\n",
      "m2z: -0.9082002926644941\n",
      "my: 0.3994257852594979\n",
      "mz: -1.0298260963358339\n",
      "xi: 0.8999999999999999\n",
      "yi: 0.8798083561336223\n",
      "zi: 0.3540157706262732\n",
      "xtemp: 0.9999999999999999\n",
      "ytemp: 0.9152099331962497\n",
      "ztemp: 0.26057596066624955\n",
      "m1y: 0.3540157706262732\n",
      "m1z: -0.9343980996002368\n",
      "m2y: 0.26057596066624955\n",
      "m2z: -0.7154451226617206\n",
      "my: 0.3072958656462614\n",
      "mz: -0.8249216111309787\n",
      "xi: 0.9999999999999999\n",
      "yi: 0.9105379426982484\n",
      "zi: 0.27152360951317533\n",
      "xtemp: 1.0999999999999999\n",
      "ytemp: 0.937690303649566\n",
      "ztemp: 0.19735384487313656\n",
      "m1y: 0.27152360951317533\n",
      "m1z: -0.7416976464003876\n",
      "m2y: 0.19735384487313656\n",
      "m2z: -0.5551703601765023\n",
      "my: 0.23443872719315595\n",
      "mz: -0.648434003288445\n",
      "xi: 1.0999999999999999\n",
      "yi: 0.933981815417564\n",
      "zi: 0.20668020918433083\n",
      "xtemp: 1.2\n",
      "ytemp: 0.9546498363359971\n",
      "ztemp: 0.1487695420888719\n",
      "m1y: 0.20668020918433083\n",
      "m1z: -0.5791066709545896\n",
      "m2y: 0.1487695420888719\n",
      "m2z: -0.42606845702076834\n",
      "my: 0.17772487563660136\n",
      "mz: -0.5025875639876789\n",
      "xi: 1.2\n",
      "yi: 0.9517543029812241\n",
      "zi: 0.15642145278556294\n",
      "xtemp: 1.3\n",
      "ytemp: 0.9673964482597804\n",
      "ztemp: 0.11175901555539276\n",
      "m1y: 0.15642145278556294\n",
      "m1z: -0.4466243723017017\n",
      "m2y: 0.11175901555539276\n",
      "m2z: -0.32434582412788954\n",
      "my: 0.13409023417047786\n",
      "mz: -0.3854850982147956\n",
      "xi: 1.3\n",
      "yi: 0.9651633263982718\n",
      "zi: 0.11787294296408338\n",
      "xtemp: 1.4000000000000001\n",
      "ytemp: 0.9769506206946802\n",
      "ztemp: 0.08374295044701283\n",
      "m1y: 0.11787294296408338\n",
      "m1z: -0.34129992517070545\n",
      "m2y: 0.08374295044701283\n",
      "m2z: -0.2454381822540391\n",
      "my: 0.1008079467055481\n",
      "mz: -0.29336905371237226\n",
      "xi: 1.4000000000000001\n",
      "yi: 0.9752441210688266\n",
      "zi: 0.08853603759284615\n",
      "xtemp: 1.5000000000000002\n",
      "ytemp: 0.9840977248281112\n",
      "ztemp: 0.0626327625433006\n",
      "m1y: 0.08853603759284615\n",
      "m1z: -0.2590327504954555\n",
      "m2y: 0.0626327625433006\n",
      "m2z: -0.18491027735568438\n",
      "my: 0.07558440006807338\n",
      "mz: -0.22197151392556994\n",
      "xi: 1.5000000000000002\n",
      "yi: 0.982802561075634\n",
      "zi: 0.06633888620028915\n",
      "xtemp: 1.6000000000000003\n",
      "ytemp: 0.9894364496956629\n",
      "ztemp: 0.04677947802332438\n",
      "m1y: 0.06633888620028915\n",
      "m1z: -0.19559408176964763\n",
      "m2y: 0.04677947802332438\n",
      "m2z: -0.13885596196204308\n",
      "my: 0.056559182111806765\n",
      "mz: -0.16722502186584537\n",
      "xi: 1.6000000000000003\n",
      "yi: 0.9884584792868147\n",
      "zi: 0.049616384013704606\n",
      "xtemp: 1.7000000000000004\n",
      "ytemp: 0.9934201176881852\n",
      "ztemp: 0.03490326336673548\n",
      "m1y: 0.049616384013704606\n",
      "m1z: -0.14713120646969124\n",
      "m2y: 0.03490326336673548\n",
      "m2z: -0.10402081200445225\n",
      "my: 0.04225982369022004\n",
      "mz: -0.12557600923707174\n",
      "xi: 1.7000000000000004\n",
      "yi: 0.9926844616558368\n",
      "zi: 0.03705878308999743\n",
      "xtemp: 1.8000000000000005\n",
      "ytemp: 0.9963903399648365\n",
      "ztemp: 0.02602247964760307\n",
      "m1y: 0.03705878308999743\n",
      "m1z: -0.11036303442394359\n",
      "m2y: 0.02602247964760307\n",
      "m2z: -0.07778564202840978\n",
      "my: 0.031540631368800254\n",
      "mz: -0.09407433822617668\n",
      "xi: 1.8000000000000005\n",
      "yi: 0.9958385247927168\n",
      "zi: 0.027651349267379763\n",
      "xtemp: 1.9000000000000006\n",
      "ytemp: 0.9986036597194549\n",
      "ztemp: 0.01939046560849307\n",
      "m1y: 0.027651349267379763\n",
      "m1z: -0.0826088365888669\n",
      "m2y: 0.01939046560849307\n",
      "m2z: -0.05809016976091622\n",
      "my: 0.023520907437936417\n",
      "mz: -0.07034950317489157\n",
      "xi: 1.9000000000000006\n",
      "yi: 0.9981906155365105\n",
      "zi: 0.020616398949890605\n",
      "xtemp: 2.0000000000000004\n",
      "ytemp: 1.0002522554314994\n",
      "ztemp: 0.014442670162509334\n",
      "m1y: 0.020616398949890605\n",
      "m1z: -0.06173728787381271\n",
      "m2y: 0.014442670162509334\n",
      "m2z: -0.04333894021350954\n",
      "my: 0.017529534556199967\n",
      "mz: -0.05253811404366113\n",
      "xi: 2.0000000000000004\n",
      "yi: 0.9999435689921304\n",
      "zi: 0.01536258754552449\n"
     ]
    }
   ],
   "source": [
    "\n",
    "xi = x0\n",
    "yi = y0\n",
    "zi = z0\n",
    "for i in range(steps):\n",
    "    m1y = zi\n",
    "    m1z = f_lambdified(xi,yi,zi)\n",
    "    m2y = zi + h*m1z\n",
    "    xtemp = xi+h\n",
    "    ytemp = yi + h*m1y\n",
    "    ztemp = zi + h*m1z\n",
    "    print(f\"xtemp: {xtemp}\")\n",
    "    print(f\"ytemp: {ytemp}\")\n",
    "    print(f\"ztemp: {ztemp}\")\n",
    "    m2z = f_lambdified(xtemp,ytemp,ztemp)\n",
    "    print(f\"m1y: {m1y}\")\n",
    "    print(f\"m1z: {m1z}\")\n",
    "    print(f\"m2y: {m2y}\")\n",
    "    print(f\"m2z: {m2z}\")\n",
    "    my = (m1y+m2y)/2\n",
    "    mz = (m1z+m2z)/2\n",
    "    print(f\"my: {my}\")\n",
    "    print(f\"mz: {mz}\")\n",
    "    \n",
    "    \n",
    "    yi = yi+my*h\n",
    "    zi = zi + mz*h\n",
    "    xi = xi+h\n",
    "    print(f\"xi: {xi}\")\n",
    "    print(f\"yi: {yi}\")\n",
    "    print(f\"zi: {zi}\")\n",
    "    "
   ]
  },
  {
   "cell_type": "code",
   "execution_count": null,
   "metadata": {},
   "outputs": [],
   "source": []
  }
 ],
 "metadata": {
  "kernelspec": {
   "display_name": "venv",
   "language": "python",
   "name": "python3"
  },
  "language_info": {
   "codemirror_mode": {
    "name": "ipython",
    "version": 3
   },
   "file_extension": ".py",
   "mimetype": "text/x-python",
   "name": "python",
   "nbconvert_exporter": "python",
   "pygments_lexer": "ipython3",
   "version": "3.10.12"
  }
 },
 "nbformat": 4,
 "nbformat_minor": 2
}
