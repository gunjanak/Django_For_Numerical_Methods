{
 "cells": [
  {
   "cell_type": "code",
   "execution_count": 3,
   "metadata": {},
   "outputs": [],
   "source": [
    "import numpy as np\n",
    "from sympy import symbols,sympify,lambdify"
   ]
  },
  {
   "cell_type": "code",
   "execution_count": null,
   "metadata": {},
   "outputs": [],
   "source": [
    "formula_str = input(\"Enter a function\")\n",
    "formula = sympify(formula_str)\n",
    "x = symbols('x')\n",
    "f_lambdified = lambdify((x), formula)\n",
    "xi = 5\n",
    "output = f_lambdified(xi)\n",
    "output"
   ]
  },
  {
   "cell_type": "code",
   "execution_count": 15,
   "metadata": {},
   "outputs": [
    {
     "name": "stdout",
     "output_type": "stream",
     "text": [
      "The function: -x + exp(-x)\n",
      "The derivative: -1 - exp(-x)\n",
      "f(0.0) = 1.0\n",
      "f'(0.0) = -2.0\n",
      "Xi: 0.5\n",
      "Error: 1.0\n",
      "Xi: 0.5663110031972182\n",
      "Error: 0.11709290976662397\n",
      "Xi: 0.5671431650348622\n",
      "Error: 0.0014672870783743904\n",
      "0.5671431650348622\n"
     ]
    }
   ],
   "source": [
    "import numpy as np\n",
    "from sympy import symbols, sympify, lambdify, diff\n",
    "\n",
    "# Input the function as a string\n",
    "formula_str = input(\"Enter a function: \")\n",
    "formula = sympify(formula_str)\n",
    "\n",
    "# Define the symbol\n",
    "x = symbols('x')\n",
    "\n",
    "# Generate the lambdified function\n",
    "f_lambdified = lambdify(x, formula)\n",
    "\n",
    "# Compute the derivative of the formula\n",
    "formula_derivative = diff(formula, x)\n",
    "\n",
    "# Generate the lambdified derivative\n",
    "f_derivative_lambdified = lambdify(x, formula_derivative)\n",
    "\n",
    "# Evaluate the function and its derivative at a specific point\n",
    "xi = float(input(\"Enter the value of x to evaluate the function and its derivative: \"))\n",
    "output = f_lambdified(xi)\n",
    "output_derivative = f_derivative_lambdified(xi)\n",
    "\n",
    "# Display results\n",
    "print(f\"The function: {formula}\")\n",
    "print(f\"The derivative: {formula_derivative}\")\n",
    "print(f\"f({xi}) = {output}\")\n",
    "print(f\"f'({xi}) = {output_derivative}\")\n",
    "E = 0.05\n",
    "error = 5000\n",
    "while error>E:\n",
    "    xiold = xi\n",
    "    xi = xi-(f_lambdified(xi)/f_derivative_lambdified(xi))\n",
    "    error = abs((xi-xiold)/xi)\n",
    "    print(f\"Xi: {xi}\")\n",
    "    print(f\"Error: {error}\")\n",
    "    \n",
    "print(xi)\n",
    "    "
   ]
  },
  {
   "cell_type": "code",
   "execution_count": 22,
   "metadata": {},
   "outputs": [
    {
     "name": "stdout",
     "output_type": "stream",
     "text": [
      "fx1 : 3.718281828459045\n",
      "fx2 : -0.6321205588285577\n",
      "X3: 0.7093967396323202\n",
      "Error: 0.40964842961965015\n",
      "fx1 : -0.6321205588285577\n",
      "fx2 : -0.21745586323370197\n",
      "X3: 0.5570003974476347\n",
      "Error: 0.2736018553721278\n",
      "fx1 : -0.21745586323370197\n",
      "fx2 : 0.01592463889813789\n",
      "X3: 0.5673991098358582\n",
      "Error: 0.01832698044103674\n",
      "X3: 0.5673991098358582\n"
     ]
    }
   ],
   "source": [
    "# Input the function as a string\n",
    "formula_str = input(\"Enter a function: \")\n",
    "formula = sympify(formula_str)\n",
    "\n",
    "# Define the symbol\n",
    "x = symbols('x')\n",
    "\n",
    "# Generate the lambdified function\n",
    "f_lambdified = lambdify(x, formula)\n",
    "\n",
    "x1 = float(input(\"Enter the value of x1 to evaluate the function: \"))\n",
    "x2 = float(input(\"Enter the value of x2 to evaluate the function: \"))\n",
    "\n",
    "error = 5000\n",
    "E = 0.05\n",
    "while error >E:\n",
    "    \n",
    "    fx1 = f_lambdified(x1)\n",
    "    fx2 = f_lambdified(x2)\n",
    "    print(f\"fx1 : {fx1}\")\n",
    "    print(f\"fx2 : {fx2}\")\n",
    "\n",
    "    x3 = x2 - ((x2-x1)*fx2)/(fx2-fx1)\n",
    "    \n",
    "    error = abs((x3-x2)/x3)\n",
    "    print(f\"X3: {x3}\")\n",
    "    print(f\"Error: {error}\")\n",
    "    \n",
    "    x1 = x2\n",
    "    x2 = x3\n",
    "    \n",
    "print(f\"X3: {x3}\")\n",
    "\n"
   ]
  },
  {
   "cell_type": "code",
   "execution_count": 1,
   "metadata": {},
   "outputs": [
    {
     "name": "stdout",
     "output_type": "stream",
     "text": [
      "Formula: x*log10(x) - 1.2\n",
      "Derivative: x*Derivative(log10(x), x) + log10(x)\n"
     ]
    }
   ],
   "source": [
    "from sympy import symbols, sympify, diff\n",
    "\n",
    "# Define the variable\n",
    "x = symbols('x')\n",
    "\n",
    "# Define the formula as a string and convert to sympy expression\n",
    "formula_str = \"x*log10(x) - 1.2\"\n",
    "formula = sympify(formula_str)\n",
    "\n",
    "# Compute the derivative\n",
    "derivative = diff(formula, x)\n",
    "\n",
    "print(f\"Formula: {formula}\")\n",
    "print(f\"Derivative: {derivative}\")\n"
   ]
  },
  {
   "cell_type": "code",
   "execution_count": 2,
   "metadata": {},
   "outputs": [
    {
     "name": "stdout",
     "output_type": "stream",
     "text": [
      "Formula: x*log10(x) - 1.2\n",
      "Derivative: x*Derivative(log10(x), x) + log10(x)\n",
      "Formula evaluated at x=2: 2*log10(2) - 1.2\n",
      "Derivative evaluated at x=2: log10(2) + 2*Subs(Derivative(log10(x), x), x, 2)\n"
     ]
    }
   ],
   "source": [
    "from sympy import symbols, sympify, diff\n",
    "\n",
    "# Define the variable\n",
    "x = symbols('x')\n",
    "\n",
    "# Define the formula as a string and convert to sympy expression\n",
    "formula_str = \"x*log10(x) - 1.2\"\n",
    "formula = sympify(formula_str)\n",
    "\n",
    "# Compute the derivative\n",
    "derivative = diff(formula, x)\n",
    "\n",
    "# Evaluate the formula and its derivative at x = 2\n",
    "x_value = 2\n",
    "formula_evaluated = formula.subs(x, x_value)\n",
    "derivative_evaluated = derivative.subs(x, x_value)\n",
    "\n",
    "print(f\"Formula: {formula}\")\n",
    "print(f\"Derivative: {derivative}\")\n",
    "print(f\"Formula evaluated at x=2: {formula_evaluated}\")\n",
    "print(f\"Derivative evaluated at x=2: {derivative_evaluated}\")\n"
   ]
  },
  {
   "cell_type": "code",
   "execution_count": 3,
   "metadata": {},
   "outputs": [
    {
     "name": "stdout",
     "output_type": "stream",
     "text": [
      "Formula: x*log10(x) - 1.2\n",
      "Simplified Derivative: x*Derivative(log10(x), x) + log10(x)\n",
      "Formula evaluated at x=2: 2.0*log10(2) - 1.2\n",
      "Derivative evaluated at x=2: log10(2) + 2.0*Subs(Derivative(log10(x), x), x, 2)\n"
     ]
    }
   ],
   "source": [
    "from sympy import symbols, sympify, diff, simplify\n",
    "\n",
    "# Define the variable\n",
    "x = symbols('x')\n",
    "\n",
    "# Define the formula as a string and convert to sympy expression\n",
    "formula_str = \"x*log10(x) - 1.2\"\n",
    "formula = sympify(formula_str)\n",
    "\n",
    "# Compute the derivative\n",
    "derivative = diff(formula, x)\n",
    "\n",
    "# Simplify the derivative for clarity\n",
    "simplified_derivative = simplify(derivative)\n",
    "\n",
    "# Evaluate the formula and its derivative at x = 2\n",
    "x_value = 2\n",
    "formula_evaluated = formula.subs(x, x_value).evalf()\n",
    "derivative_evaluated = simplified_derivative.subs(x, x_value).evalf()\n",
    "\n",
    "print(f\"Formula: {formula}\")\n",
    "print(f\"Simplified Derivative: {simplified_derivative}\")\n",
    "print(f\"Formula evaluated at x=2: {formula_evaluated}\")\n",
    "print(f\"Derivative evaluated at x=2: {derivative_evaluated}\")\n"
   ]
  },
  {
   "cell_type": "code",
   "execution_count": null,
   "metadata": {},
   "outputs": [],
   "source": []
  }
 ],
 "metadata": {
  "kernelspec": {
   "display_name": "venv",
   "language": "python",
   "name": "python3"
  },
  "language_info": {
   "codemirror_mode": {
    "name": "ipython",
    "version": 3
   },
   "file_extension": ".py",
   "mimetype": "text/x-python",
   "name": "python",
   "nbconvert_exporter": "python",
   "pygments_lexer": "ipython3",
   "version": "3.10.12"
  }
 },
 "nbformat": 4,
 "nbformat_minor": 2
}
